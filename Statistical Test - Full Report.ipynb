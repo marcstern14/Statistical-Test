{
 "cells": [
  {
   "cell_type": "code",
   "execution_count": 2,
   "metadata": {},
   "outputs": [],
   "source": [
    "%matplotlib inline\n",
    "\n",
    "import pandas as pd\n",
    "import numpy as np\n",
    "from scipy import stats\n",
    "\n",
    "\n",
    "import seaborn as sns\n",
    "import matplotlib.pylab as plt"
   ]
  },
  {
   "cell_type": "code",
   "execution_count": 425,
   "metadata": {},
   "outputs": [
    {
     "data": {
      "text/html": [
       "<div>\n",
       "<style scoped>\n",
       "    .dataframe tbody tr th:only-of-type {\n",
       "        vertical-align: middle;\n",
       "    }\n",
       "\n",
       "    .dataframe tbody tr th {\n",
       "        vertical-align: top;\n",
       "    }\n",
       "\n",
       "    .dataframe thead th {\n",
       "        text-align: right;\n",
       "    }\n",
       "</style>\n",
       "<table border=\"1\" class=\"dataframe\">\n",
       "  <thead>\n",
       "    <tr style=\"text-align: right;\">\n",
       "      <th></th>\n",
       "      <th>acousticness</th>\n",
       "      <th>danceability</th>\n",
       "      <th>duration_ms</th>\n",
       "      <th>energy</th>\n",
       "      <th>explicit</th>\n",
       "      <th>instrumentalness</th>\n",
       "      <th>key</th>\n",
       "      <th>liveness</th>\n",
       "      <th>loudness</th>\n",
       "      <th>mode</th>\n",
       "      <th>popularity</th>\n",
       "      <th>speechiness</th>\n",
       "      <th>tempo</th>\n",
       "      <th>valence</th>\n",
       "      <th>year</th>\n",
       "    </tr>\n",
       "  </thead>\n",
       "  <tbody>\n",
       "    <tr>\n",
       "      <td>acousticness</td>\n",
       "      <td>1.000000</td>\n",
       "      <td>-0.265950</td>\n",
       "      <td>-0.079311</td>\n",
       "      <td>-0.750283</td>\n",
       "      <td>-0.253690</td>\n",
       "      <td>0.335821</td>\n",
       "      <td>-0.021686</td>\n",
       "      <td>-0.023871</td>\n",
       "      <td>-0.567072</td>\n",
       "      <td>0.046475</td>\n",
       "      <td>-0.593345</td>\n",
       "      <td>-0.056077</td>\n",
       "      <td>-0.204982</td>\n",
       "      <td>-0.185540</td>\n",
       "      <td>-0.624550</td>\n",
       "    </tr>\n",
       "    <tr>\n",
       "      <td>danceability</td>\n",
       "      <td>-0.265950</td>\n",
       "      <td>1.000000</td>\n",
       "      <td>-0.134500</td>\n",
       "      <td>0.220569</td>\n",
       "      <td>0.241891</td>\n",
       "      <td>-0.281429</td>\n",
       "      <td>0.022599</td>\n",
       "      <td>-0.105532</td>\n",
       "      <td>0.294170</td>\n",
       "      <td>-0.045306</td>\n",
       "      <td>0.221077</td>\n",
       "      <td>0.225305</td>\n",
       "      <td>-0.004872</td>\n",
       "      <td>0.560242</td>\n",
       "      <td>0.203430</td>\n",
       "    </tr>\n",
       "    <tr>\n",
       "      <td>duration_ms</td>\n",
       "      <td>-0.079311</td>\n",
       "      <td>-0.134500</td>\n",
       "      <td>1.000000</td>\n",
       "      <td>0.036396</td>\n",
       "      <td>-0.043811</td>\n",
       "      <td>0.084814</td>\n",
       "      <td>-0.003116</td>\n",
       "      <td>0.034270</td>\n",
       "      <td>-0.014687</td>\n",
       "      <td>-0.046981</td>\n",
       "      <td>0.063292</td>\n",
       "      <td>-0.058449</td>\n",
       "      <td>-0.028816</td>\n",
       "      <td>-0.198760</td>\n",
       "      <td>0.076293</td>\n",
       "    </tr>\n",
       "    <tr>\n",
       "      <td>energy</td>\n",
       "      <td>-0.750283</td>\n",
       "      <td>0.220569</td>\n",
       "      <td>0.036396</td>\n",
       "      <td>1.000000</td>\n",
       "      <td>0.142677</td>\n",
       "      <td>-0.287692</td>\n",
       "      <td>0.029984</td>\n",
       "      <td>0.126293</td>\n",
       "      <td>0.782982</td>\n",
       "      <td>-0.038355</td>\n",
       "      <td>0.497488</td>\n",
       "      <td>-0.045226</td>\n",
       "      <td>0.249936</td>\n",
       "      <td>0.350086</td>\n",
       "      <td>0.532419</td>\n",
       "    </tr>\n",
       "    <tr>\n",
       "      <td>explicit</td>\n",
       "      <td>-0.253690</td>\n",
       "      <td>0.241891</td>\n",
       "      <td>-0.043811</td>\n",
       "      <td>0.142677</td>\n",
       "      <td>1.000000</td>\n",
       "      <td>-0.138292</td>\n",
       "      <td>0.008578</td>\n",
       "      <td>0.039272</td>\n",
       "      <td>0.152695</td>\n",
       "      <td>-0.083221</td>\n",
       "      <td>0.214044</td>\n",
       "      <td>0.413074</td>\n",
       "      <td>0.011484</td>\n",
       "      <td>-0.022327</td>\n",
       "      <td>0.245227</td>\n",
       "    </tr>\n",
       "    <tr>\n",
       "      <td>instrumentalness</td>\n",
       "      <td>0.335821</td>\n",
       "      <td>-0.281429</td>\n",
       "      <td>0.084814</td>\n",
       "      <td>-0.287692</td>\n",
       "      <td>-0.138292</td>\n",
       "      <td>1.000000</td>\n",
       "      <td>-0.014268</td>\n",
       "      <td>-0.047397</td>\n",
       "      <td>-0.417033</td>\n",
       "      <td>-0.035051</td>\n",
       "      <td>-0.299829</td>\n",
       "      <td>-0.115735</td>\n",
       "      <td>-0.107570</td>\n",
       "      <td>-0.193929</td>\n",
       "      <td>-0.291571</td>\n",
       "    </tr>\n",
       "    <tr>\n",
       "      <td>key</td>\n",
       "      <td>-0.021686</td>\n",
       "      <td>0.022599</td>\n",
       "      <td>-0.003116</td>\n",
       "      <td>0.029984</td>\n",
       "      <td>0.008578</td>\n",
       "      <td>-0.014268</td>\n",
       "      <td>1.000000</td>\n",
       "      <td>-0.000106</td>\n",
       "      <td>0.021920</td>\n",
       "      <td>-0.112766</td>\n",
       "      <td>0.010675</td>\n",
       "      <td>0.015225</td>\n",
       "      <td>0.003148</td>\n",
       "      <td>0.029064</td>\n",
       "      <td>0.012503</td>\n",
       "    </tr>\n",
       "    <tr>\n",
       "      <td>liveness</td>\n",
       "      <td>-0.023871</td>\n",
       "      <td>-0.105532</td>\n",
       "      <td>0.034270</td>\n",
       "      <td>0.126293</td>\n",
       "      <td>0.039272</td>\n",
       "      <td>-0.047397</td>\n",
       "      <td>-0.000106</td>\n",
       "      <td>1.000000</td>\n",
       "      <td>0.052985</td>\n",
       "      <td>0.005393</td>\n",
       "      <td>-0.075293</td>\n",
       "      <td>0.147667</td>\n",
       "      <td>0.008124</td>\n",
       "      <td>-0.000426</td>\n",
       "      <td>-0.055839</td>\n",
       "    </tr>\n",
       "    <tr>\n",
       "      <td>loudness</td>\n",
       "      <td>-0.567072</td>\n",
       "      <td>0.294170</td>\n",
       "      <td>-0.014687</td>\n",
       "      <td>0.782982</td>\n",
       "      <td>0.152695</td>\n",
       "      <td>-0.417033</td>\n",
       "      <td>0.021920</td>\n",
       "      <td>0.052985</td>\n",
       "      <td>1.000000</td>\n",
       "      <td>-0.013147</td>\n",
       "      <td>0.466546</td>\n",
       "      <td>-0.105796</td>\n",
       "      <td>0.211114</td>\n",
       "      <td>0.308418</td>\n",
       "      <td>0.490118</td>\n",
       "    </tr>\n",
       "    <tr>\n",
       "      <td>mode</td>\n",
       "      <td>0.046475</td>\n",
       "      <td>-0.045306</td>\n",
       "      <td>-0.046981</td>\n",
       "      <td>-0.038355</td>\n",
       "      <td>-0.083221</td>\n",
       "      <td>-0.035051</td>\n",
       "      <td>-0.112766</td>\n",
       "      <td>0.005393</td>\n",
       "      <td>-0.013147</td>\n",
       "      <td>1.000000</td>\n",
       "      <td>-0.032854</td>\n",
       "      <td>-0.057493</td>\n",
       "      <td>0.014539</td>\n",
       "      <td>0.014727</td>\n",
       "      <td>-0.033084</td>\n",
       "    </tr>\n",
       "    <tr>\n",
       "      <td>popularity</td>\n",
       "      <td>-0.593345</td>\n",
       "      <td>0.221077</td>\n",
       "      <td>0.063292</td>\n",
       "      <td>0.497488</td>\n",
       "      <td>0.214044</td>\n",
       "      <td>-0.299829</td>\n",
       "      <td>0.010675</td>\n",
       "      <td>-0.075293</td>\n",
       "      <td>0.466546</td>\n",
       "      <td>-0.032854</td>\n",
       "      <td>1.000000</td>\n",
       "      <td>-0.135707</td>\n",
       "      <td>0.135047</td>\n",
       "      <td>0.009327</td>\n",
       "      <td>0.880724</td>\n",
       "    </tr>\n",
       "    <tr>\n",
       "      <td>speechiness</td>\n",
       "      <td>-0.056077</td>\n",
       "      <td>0.225305</td>\n",
       "      <td>-0.058449</td>\n",
       "      <td>-0.045226</td>\n",
       "      <td>0.413074</td>\n",
       "      <td>-0.115735</td>\n",
       "      <td>0.015225</td>\n",
       "      <td>0.147667</td>\n",
       "      <td>-0.105796</td>\n",
       "      <td>-0.057493</td>\n",
       "      <td>-0.135707</td>\n",
       "      <td>1.000000</td>\n",
       "      <td>-0.010070</td>\n",
       "      <td>0.056383</td>\n",
       "      <td>-0.120937</td>\n",
       "    </tr>\n",
       "    <tr>\n",
       "      <td>tempo</td>\n",
       "      <td>-0.204982</td>\n",
       "      <td>-0.004872</td>\n",
       "      <td>-0.028816</td>\n",
       "      <td>0.249936</td>\n",
       "      <td>0.011484</td>\n",
       "      <td>-0.107570</td>\n",
       "      <td>0.003148</td>\n",
       "      <td>0.008124</td>\n",
       "      <td>0.211114</td>\n",
       "      <td>0.014539</td>\n",
       "      <td>0.135047</td>\n",
       "      <td>-0.010070</td>\n",
       "      <td>1.000000</td>\n",
       "      <td>0.171182</td>\n",
       "      <td>0.137892</td>\n",
       "    </tr>\n",
       "    <tr>\n",
       "      <td>valence</td>\n",
       "      <td>-0.185540</td>\n",
       "      <td>0.560242</td>\n",
       "      <td>-0.198760</td>\n",
       "      <td>0.350086</td>\n",
       "      <td>-0.022327</td>\n",
       "      <td>-0.193929</td>\n",
       "      <td>0.029064</td>\n",
       "      <td>-0.000426</td>\n",
       "      <td>0.308418</td>\n",
       "      <td>0.014727</td>\n",
       "      <td>0.009327</td>\n",
       "      <td>0.056383</td>\n",
       "      <td>0.171182</td>\n",
       "      <td>1.000000</td>\n",
       "      <td>-0.029304</td>\n",
       "    </tr>\n",
       "    <tr>\n",
       "      <td>year</td>\n",
       "      <td>-0.624550</td>\n",
       "      <td>0.203430</td>\n",
       "      <td>0.076293</td>\n",
       "      <td>0.532419</td>\n",
       "      <td>0.245227</td>\n",
       "      <td>-0.291571</td>\n",
       "      <td>0.012503</td>\n",
       "      <td>-0.055839</td>\n",
       "      <td>0.490118</td>\n",
       "      <td>-0.033084</td>\n",
       "      <td>0.880724</td>\n",
       "      <td>-0.120937</td>\n",
       "      <td>0.137892</td>\n",
       "      <td>-0.029304</td>\n",
       "      <td>1.000000</td>\n",
       "    </tr>\n",
       "  </tbody>\n",
       "</table>\n",
       "</div>"
      ],
      "text/plain": [
       "                  acousticness  danceability  duration_ms    energy  explicit  \\\n",
       "acousticness          1.000000     -0.265950    -0.079311 -0.750283 -0.253690   \n",
       "danceability         -0.265950      1.000000    -0.134500  0.220569  0.241891   \n",
       "duration_ms          -0.079311     -0.134500     1.000000  0.036396 -0.043811   \n",
       "energy               -0.750283      0.220569     0.036396  1.000000  0.142677   \n",
       "explicit             -0.253690      0.241891    -0.043811  0.142677  1.000000   \n",
       "instrumentalness      0.335821     -0.281429     0.084814 -0.287692 -0.138292   \n",
       "key                  -0.021686      0.022599    -0.003116  0.029984  0.008578   \n",
       "liveness             -0.023871     -0.105532     0.034270  0.126293  0.039272   \n",
       "loudness             -0.567072      0.294170    -0.014687  0.782982  0.152695   \n",
       "mode                  0.046475     -0.045306    -0.046981 -0.038355 -0.083221   \n",
       "popularity           -0.593345      0.221077     0.063292  0.497488  0.214044   \n",
       "speechiness          -0.056077      0.225305    -0.058449 -0.045226  0.413074   \n",
       "tempo                -0.204982     -0.004872    -0.028816  0.249936  0.011484   \n",
       "valence              -0.185540      0.560242    -0.198760  0.350086 -0.022327   \n",
       "year                 -0.624550      0.203430     0.076293  0.532419  0.245227   \n",
       "\n",
       "                  instrumentalness       key  liveness  loudness      mode  \\\n",
       "acousticness              0.335821 -0.021686 -0.023871 -0.567072  0.046475   \n",
       "danceability             -0.281429  0.022599 -0.105532  0.294170 -0.045306   \n",
       "duration_ms               0.084814 -0.003116  0.034270 -0.014687 -0.046981   \n",
       "energy                   -0.287692  0.029984  0.126293  0.782982 -0.038355   \n",
       "explicit                 -0.138292  0.008578  0.039272  0.152695 -0.083221   \n",
       "instrumentalness          1.000000 -0.014268 -0.047397 -0.417033 -0.035051   \n",
       "key                      -0.014268  1.000000 -0.000106  0.021920 -0.112766   \n",
       "liveness                 -0.047397 -0.000106  1.000000  0.052985  0.005393   \n",
       "loudness                 -0.417033  0.021920  0.052985  1.000000 -0.013147   \n",
       "mode                     -0.035051 -0.112766  0.005393 -0.013147  1.000000   \n",
       "popularity               -0.299829  0.010675 -0.075293  0.466546 -0.032854   \n",
       "speechiness              -0.115735  0.015225  0.147667 -0.105796 -0.057493   \n",
       "tempo                    -0.107570  0.003148  0.008124  0.211114  0.014539   \n",
       "valence                  -0.193929  0.029064 -0.000426  0.308418  0.014727   \n",
       "year                     -0.291571  0.012503 -0.055839  0.490118 -0.033084   \n",
       "\n",
       "                  popularity  speechiness     tempo   valence      year  \n",
       "acousticness       -0.593345    -0.056077 -0.204982 -0.185540 -0.624550  \n",
       "danceability        0.221077     0.225305 -0.004872  0.560242  0.203430  \n",
       "duration_ms         0.063292    -0.058449 -0.028816 -0.198760  0.076293  \n",
       "energy              0.497488    -0.045226  0.249936  0.350086  0.532419  \n",
       "explicit            0.214044     0.413074  0.011484 -0.022327  0.245227  \n",
       "instrumentalness   -0.299829    -0.115735 -0.107570 -0.193929 -0.291571  \n",
       "key                 0.010675     0.015225  0.003148  0.029064  0.012503  \n",
       "liveness           -0.075293     0.147667  0.008124 -0.000426 -0.055839  \n",
       "loudness            0.466546    -0.105796  0.211114  0.308418  0.490118  \n",
       "mode               -0.032854    -0.057493  0.014539  0.014727 -0.033084  \n",
       "popularity          1.000000    -0.135707  0.135047  0.009327  0.880724  \n",
       "speechiness        -0.135707     1.000000 -0.010070  0.056383 -0.120937  \n",
       "tempo               0.135047    -0.010070  1.000000  0.171182  0.137892  \n",
       "valence             0.009327     0.056383  0.171182  1.000000 -0.029304  \n",
       "year                0.880724    -0.120937  0.137892 -0.029304  1.000000  "
      ]
     },
     "execution_count": 425,
     "metadata": {},
     "output_type": "execute_result"
    }
   ],
   "source": [
    "data = pd.read_csv('Music Data Sets/data.csv')\n",
    "data.corr()"
   ]
  },
  {
   "cell_type": "code",
   "execution_count": 426,
   "metadata": {},
   "outputs": [],
   "source": [
    "# create a narrowed data set from the original data set\n",
    "\n",
    "mydf = pd.DataFrame({'duration_ms': data['duration_ms'], 'popularity': data['popularity'], 'year': data['year']})\n",
    "mydf_19 = mydf.loc[mydf['year'] == 2019]\n",
    "mydf_72 = mydf.loc[mydf['year'] == 1972]"
   ]
  },
  {
   "cell_type": "code",
   "execution_count": 427,
   "metadata": {},
   "outputs": [
    {
     "data": {
      "text/html": [
       "<div>\n",
       "<style scoped>\n",
       "    .dataframe tbody tr th:only-of-type {\n",
       "        vertical-align: middle;\n",
       "    }\n",
       "\n",
       "    .dataframe tbody tr th {\n",
       "        vertical-align: top;\n",
       "    }\n",
       "\n",
       "    .dataframe thead th {\n",
       "        text-align: right;\n",
       "    }\n",
       "</style>\n",
       "<table border=\"1\" class=\"dataframe\">\n",
       "  <thead>\n",
       "    <tr style=\"text-align: right;\">\n",
       "      <th></th>\n",
       "      <th>duration_ms</th>\n",
       "      <th>popularity</th>\n",
       "      <th>year</th>\n",
       "    </tr>\n",
       "  </thead>\n",
       "  <tbody>\n",
       "    <tr>\n",
       "      <td>0</td>\n",
       "      <td>179908</td>\n",
       "      <td>72</td>\n",
       "      <td>2019</td>\n",
       "    </tr>\n",
       "    <tr>\n",
       "      <td>1</td>\n",
       "      <td>247500</td>\n",
       "      <td>67</td>\n",
       "      <td>2019</td>\n",
       "    </tr>\n",
       "    <tr>\n",
       "      <td>2</td>\n",
       "      <td>181120</td>\n",
       "      <td>71</td>\n",
       "      <td>2019</td>\n",
       "    </tr>\n",
       "    <tr>\n",
       "      <td>3</td>\n",
       "      <td>216067</td>\n",
       "      <td>81</td>\n",
       "      <td>2019</td>\n",
       "    </tr>\n",
       "    <tr>\n",
       "      <td>4</td>\n",
       "      <td>224063</td>\n",
       "      <td>65</td>\n",
       "      <td>2019</td>\n",
       "    </tr>\n",
       "    <tr>\n",
       "      <td>...</td>\n",
       "      <td>...</td>\n",
       "      <td>...</td>\n",
       "      <td>...</td>\n",
       "    </tr>\n",
       "    <tr>\n",
       "      <td>3995</td>\n",
       "      <td>241293</td>\n",
       "      <td>35</td>\n",
       "      <td>1972</td>\n",
       "    </tr>\n",
       "    <tr>\n",
       "      <td>3996</td>\n",
       "      <td>190667</td>\n",
       "      <td>36</td>\n",
       "      <td>1972</td>\n",
       "    </tr>\n",
       "    <tr>\n",
       "      <td>3997</td>\n",
       "      <td>215867</td>\n",
       "      <td>27</td>\n",
       "      <td>1972</td>\n",
       "    </tr>\n",
       "    <tr>\n",
       "      <td>3998</td>\n",
       "      <td>193320</td>\n",
       "      <td>31</td>\n",
       "      <td>1972</td>\n",
       "    </tr>\n",
       "    <tr>\n",
       "      <td>3999</td>\n",
       "      <td>314427</td>\n",
       "      <td>35</td>\n",
       "      <td>1972</td>\n",
       "    </tr>\n",
       "  </tbody>\n",
       "</table>\n",
       "<p>4000 rows × 3 columns</p>\n",
       "</div>"
      ],
      "text/plain": [
       "      duration_ms  popularity  year\n",
       "0          179908          72  2019\n",
       "1          247500          67  2019\n",
       "2          181120          71  2019\n",
       "3          216067          81  2019\n",
       "4          224063          65  2019\n",
       "...           ...         ...   ...\n",
       "3995       241293          35  1972\n",
       "3996       190667          36  1972\n",
       "3997       215867          27  1972\n",
       "3998       193320          31  1972\n",
       "3999       314427          35  1972\n",
       "\n",
       "[4000 rows x 3 columns]"
      ]
     },
     "execution_count": 427,
     "metadata": {},
     "output_type": "execute_result"
    }
   ],
   "source": [
    "mydf = pd.concat([mydf_19, mydf_72]).reset_index().drop('index', axis=1)\n",
    "mydf"
   ]
  },
  {
   "cell_type": "code",
   "execution_count": 428,
   "metadata": {},
   "outputs": [
    {
     "data": {
      "text/html": [
       "<div>\n",
       "<style scoped>\n",
       "    .dataframe tbody tr th:only-of-type {\n",
       "        vertical-align: middle;\n",
       "    }\n",
       "\n",
       "    .dataframe tbody tr th {\n",
       "        vertical-align: top;\n",
       "    }\n",
       "\n",
       "    .dataframe thead th {\n",
       "        text-align: right;\n",
       "    }\n",
       "</style>\n",
       "<table border=\"1\" class=\"dataframe\">\n",
       "  <thead>\n",
       "    <tr style=\"text-align: right;\">\n",
       "      <th></th>\n",
       "      <th>duration_ms</th>\n",
       "      <th>popularity</th>\n",
       "      <th>year</th>\n",
       "    </tr>\n",
       "  </thead>\n",
       "  <tbody>\n",
       "    <tr>\n",
       "      <td>duration_ms</td>\n",
       "      <td>1.000000</td>\n",
       "      <td>-0.223035</td>\n",
       "      <td>-0.232424</td>\n",
       "    </tr>\n",
       "    <tr>\n",
       "      <td>popularity</td>\n",
       "      <td>-0.223035</td>\n",
       "      <td>1.000000</td>\n",
       "      <td>0.887124</td>\n",
       "    </tr>\n",
       "    <tr>\n",
       "      <td>year</td>\n",
       "      <td>-0.232424</td>\n",
       "      <td>0.887124</td>\n",
       "      <td>1.000000</td>\n",
       "    </tr>\n",
       "  </tbody>\n",
       "</table>\n",
       "</div>"
      ],
      "text/plain": [
       "             duration_ms  popularity      year\n",
       "duration_ms     1.000000   -0.223035 -0.232424\n",
       "popularity     -0.223035    1.000000  0.887124\n",
       "year           -0.232424    0.887124  1.000000"
      ]
     },
     "execution_count": 428,
     "metadata": {},
     "output_type": "execute_result"
    }
   ],
   "source": [
    "mydf.corr()"
   ]
  },
  {
   "cell_type": "code",
   "execution_count": 454,
   "metadata": {},
   "outputs": [],
   "source": [
    "# random sample size n = 100\n",
    "\n",
    "sample19 = mydf_19.sample(n=100)\n",
    "sample72 = mydf_72.sample(n=100)"
   ]
  },
  {
   "cell_type": "code",
   "execution_count": 455,
   "metadata": {},
   "outputs": [],
   "source": [
    "dur19 = sample19['duration_ms']\n",
    "pop19 = sample19['popularity']\n",
    "\n",
    "dur72 = sample72['duration_ms']\n",
    "pop72 = sample72['popularity']"
   ]
  },
  {
   "cell_type": "code",
   "execution_count": 575,
   "metadata": {},
   "outputs": [
    {
     "data": {
      "text/plain": [
       "10"
      ]
     },
     "execution_count": 575,
     "metadata": {},
     "output_type": "execute_result"
    }
   ],
   "source": [
    "# distribution of samples\n",
    "# 2019 duration\n",
    "\n",
    "# calculate number of bins\n",
    "\n",
    "num_bins = int(np.ceil(np.sqrt(dur19.count())))\n",
    "num_bins"
   ]
  },
  {
   "cell_type": "code",
   "execution_count": 607,
   "metadata": {},
   "outputs": [],
   "source": [
    "bin_pop = pd.cut(dur19, num_bins)\n",
    "bin_pop_freq = bin_pop.value_counts()\n",
    "bin_pop.name = 'binnedPopulation'\n",
    "dur19_df = pd.concat([dur19, bin_pop], axis=1)\n",
    "#dur19_df"
   ]
  },
  {
   "cell_type": "code",
   "execution_count": 608,
   "metadata": {},
   "outputs": [],
   "source": [
    "# create frequency table\n",
    "\n",
    "total = dur19_df['duration_ms'].count()\n",
    "groups = []\n",
    "\n",
    "for group, subset in dur19_df.groupby(by='binnedPopulation'):\n",
    "    \n",
    "    groups.append({\n",
    "        'BinRange': group,\n",
    "        'Freq': len(subset),\n",
    "        'Rel-Freq': len(subset)/total\n",
    "    })\n",
    "    \n",
    "freq_table = pd.DataFrame(groups)\n",
    "#print (freq_table)"
   ]
  },
  {
   "cell_type": "code",
   "execution_count": 609,
   "metadata": {},
   "outputs": [
    {
     "data": {
      "image/png": "[encoded data removed]",
      "text/plain": [
       "<Figure size 288x288 with 1 Axes>"
      ]
     },
     "metadata": {
      "needs_background": "light"
     },
     "output_type": "display_data"
    }
   ],
   "source": [
    "ax = dur19_df.plot.hist(figsize=(4, 4), bins=num_bins, rot='45')\n",
    "ax.set_xlabel('song duration (ms)')\n",
    "ax.set_title('2019 Random Sample Distribution')\n",
    "plt.show()"
   ]
  },
  {
   "cell_type": "code",
   "execution_count": 611,
   "metadata": {},
   "outputs": [],
   "source": [
    "# 2019 popularity\n",
    "\n",
    "bin_pop = pd.cut(pop19, num_bins)\n",
    "bin_pop_freq = bin_pop.value_counts()\n",
    "bin_pop.name = 'binnedPopulation'\n",
    "pop19_df = pd.concat([pop19, bin_pop], axis=1)\n",
    "#pop19_df"
   ]
  },
  {
   "cell_type": "code",
   "execution_count": 613,
   "metadata": {},
   "outputs": [],
   "source": [
    "# create frequency table\n",
    "\n",
    "total = pop19_df['popularity'].count()\n",
    "groups = []\n",
    "\n",
    "for group, subset in pop19_df.groupby(by='binnedPopulation'):\n",
    "    \n",
    "    groups.append({\n",
    "        'BinRange': group,\n",
    "        'Freq': len(subset),\n",
    "        'Rel-Freq': len(subset)/total\n",
    "    })\n",
    "    \n",
    "freq_table = pd.DataFrame(groups)\n",
    "#print (freq_table)"
   ]
  },
  {
   "cell_type": "code",
   "execution_count": 688,
   "metadata": {},
   "outputs": [
    {
     "data": {
      "image/png": "[encoded data removed]",
      "text/plain": [
       "<Figure size 288x288 with 1 Axes>"
      ]
     },
     "metadata": {
      "needs_background": "light"
     },
     "output_type": "display_data"
    }
   ],
   "source": [
    "ax = pop19_df.plot.hist(figsize=(4, 4), bins=num_bins, color='brown')\n",
    "ax.set_xlabel('song popularity (0 - 100)')\n",
    "ax.set_title('2019 Random Sample Distribution')\n",
    "plt.show()"
   ]
  },
  {
   "cell_type": "code",
   "execution_count": 617,
   "metadata": {},
   "outputs": [],
   "source": [
    "# 1972 song duration\n",
    "\n",
    "bin_pop = pd.cut(dur72, num_bins)\n",
    "bin_pop_freq = bin_pop.value_counts()\n",
    "bin_pop.name = 'binnedPopulation'\n",
    "dur72_df = pd.concat([dur72, bin_pop], axis=1)\n",
    "\n",
    "total = dur72_df['duration_ms'].count()\n",
    "groups = []\n",
    "\n",
    "for group, subset in dur72_df.groupby(by='binnedPopulation'):\n",
    "    \n",
    "    groups.append({\n",
    "        'BinRange': group,\n",
    "        'Freq': len(subset),\n",
    "        'Rel-Freq': len(subset)/total\n",
    "    })\n",
    "    \n",
    "freq_table = pd.DataFrame(groups)\n",
    "#print (freq_table)"
   ]
  },
  {
   "cell_type": "code",
   "execution_count": 619,
   "metadata": {},
   "outputs": [
    {
     "data": {
      "image/png": "[encoded data removed]",
      "text/plain": [
       "<Figure size 288x288 with 1 Axes>"
      ]
     },
     "metadata": {
      "needs_background": "light"
     },
     "output_type": "display_data"
    }
   ],
   "source": [
    "ax = dur72_df.plot.hist(figsize=(4, 4), bins=num_bins, rot='45')\n",
    "ax.set_xlabel('song duration (ms)')\n",
    "ax.set_title('1972 Random Sample Distribution')\n",
    "plt.show()"
   ]
  },
  {
   "cell_type": "code",
   "execution_count": 628,
   "metadata": {},
   "outputs": [],
   "source": [
    "# 1972 song popularity\n",
    "\n",
    "bin_pop = pd.cut(pop72, num_bins)\n",
    "bin_pop_freq = bin_pop.value_counts()\n",
    "bin_pop.name = 'binnedPopulation'\n",
    "pop72_df = pd.concat([pop72, bin_pop], axis=1)\n",
    "\n",
    "total = pop72_df['popularity'].count()\n",
    "groups = []\n",
    "\n",
    "for group, subset in pop72_df.groupby(by='binnedPopulation'):\n",
    "    \n",
    "    groups.append({\n",
    "        'BinRange': group,\n",
    "        'Freq': len(subset),\n",
    "        'Rel-Freq': len(subset)/total\n",
    "    })\n",
    "    \n",
    "freq_table = pd.DataFrame(groups)\n",
    "#print (freq_table)"
   ]
  },
  {
   "cell_type": "code",
   "execution_count": 689,
   "metadata": {},
   "outputs": [
    {
     "data": {
      "image/png": "[encoded data removed]",
      "text/plain": [
       "<Figure size 288x288 with 1 Axes>"
      ]
     },
     "metadata": {
      "needs_background": "light"
     },
     "output_type": "display_data"
    }
   ],
   "source": [
    "ax = pop72_df.plot.hist(figsize=(4, 4), bins=num_bins, color='brown')\n",
    "ax.set_xlabel('popularity (0 - 100)')\n",
    "ax.set_title('1972 Random Sample Distribution')\n",
    "plt.show()"
   ]
  },
  {
   "cell_type": "code",
   "execution_count": 652,
   "metadata": {},
   "outputs": [
    {
     "data": {
      "text/plain": [
       "35.67"
      ]
     },
     "execution_count": 652,
     "metadata": {},
     "output_type": "execute_result"
    }
   ],
   "source": [
    "# create a bar chart with error bars\n",
    "\n",
    "bar_df19 = pd.DataFrame(sample19)\n",
    "bar_df72 = pd.DataFrame(sample72)\n",
    "\n",
    "dur19mean = bar_df19['duration_ms'].mean()\n",
    "dur19std = bar_df19['duration_ms'].std()\n",
    "pop19mean = bar_df19['popularity'].mean()\n",
    "pop19std = bar_df19['popularity'].std()\n",
    "\n",
    "dur72mean = bar_df72['duration_ms'].mean()\n",
    "dur72std = bar_df72['duration_ms'].std()\n",
    "pop72mean = bar_df72['popularity'].mean()\n",
    "pop72std = bar_df72['popularity'].std()\n",
    "\n",
    "pop72mean"
   ]
  },
  {
   "cell_type": "code",
   "execution_count": 674,
   "metadata": {},
   "outputs": [
    {
     "data": {
      "text/plain": [
       "<matplotlib.axes._subplots.AxesSubplot at 0x1a269bb850>"
      ]
     },
     "execution_count": 674,
     "metadata": {},
     "output_type": "execute_result"
    },
    {
     "data": {
      "image/png": "[encoded data removed]",
      "text/plain": [
       "<Figure size 432x288 with 1 Axes>"
      ]
     },
     "metadata": {
      "needs_background": "light"
     },
     "output_type": "display_data"
    }
   ],
   "source": [
    "bar_dur_df = pd.concat([sample19, sample72]).drop('popularity', axis=1).groupby(by=['year'])\n",
    "means = bar_dur_df.mean()\n",
    "err = bar_dur_df.std()\n",
    "fig, ax = plt.subplots()\n",
    "means.plot.bar(yerr=err, ax=ax, capsize=4, rot=0)"
   ]
  },
  {
   "cell_type": "code",
   "execution_count": 687,
   "metadata": {},
   "outputs": [
    {
     "data": {
      "text/plain": [
       "<matplotlib.axes._subplots.AxesSubplot at 0x1a28818450>"
      ]
     },
     "execution_count": 687,
     "metadata": {},
     "output_type": "execute_result"
    },
    {
     "data": {
      "image/png": "[encoded data removed]",
      "text/plain": [
       "<Figure size 432x288 with 1 Axes>"
      ]
     },
     "metadata": {
      "needs_background": "light"
     },
     "output_type": "display_data"
    }
   ],
   "source": [
    "bar_pop_df = pd.concat([sample19, sample72]).drop('duration_ms', axis=1).groupby(by=['year'])\n",
    "means = bar_pop_df.mean()\n",
    "err = bar_pop_df.std()\n",
    "fig, ax = plt.subplots()\n",
    "means.plot.bar(yerr=err, ax=ax, capsize=4, rot=0, color='brown')"
   ]
  },
  {
   "cell_type": "code",
   "execution_count": 700,
   "metadata": {},
   "outputs": [
    {
     "name": "stdout",
     "output_type": "stream",
     "text": [
      "-2.9182319645204005 197759.21 48103.65213046499 100 240297.74 137602.30641144753 100\n"
     ]
    }
   ],
   "source": [
    "# hypothesis test for mu2 < mu1 (duration)\n",
    "\n",
    "n1 = len(dur19)\n",
    "x1_bar = np.mean(dur19)\n",
    "s1 = np.std(dur19, ddof=1)\n",
    "\n",
    "n2 = len(dur72)\n",
    "x2_bar = np.mean(dur72)\n",
    "s2 = np.std(dur72, ddof=1)\n",
    "\n",
    "alpha = 0.01\n",
    "\n",
    "t = (x1_bar - x2_bar) / np.sqrt(s1**2 / n1 + s2**2 / n2)\n",
    "\n",
    "print(t, x1_bar, s1, n1, x2_bar, s2, n2)"
   ]
  },
  {
   "cell_type": "code",
   "execution_count": 3,
   "metadata": {},
   "outputs": [
    {
     "data": {
      "text/plain": [
       "0.00217854410692308"
      ]
     },
     "execution_count": 3,
     "metadata": {},
     "output_type": "execute_result"
    }
   ],
   "source": [
    "#df = min(n1-1, n2-1)\n",
    "\n",
    "p_val = stats.t.cdf(-2.9182319645204005, 99) #left-tail\n",
    "#p_val = stats.t.sf(-2.9182319645204005, 99) #right-tail\n",
    "#p_val = stats.t.cdf(-2.9182319645204005, 99) * 2 #two-tailed\n",
    "p_val\n",
    "#print(f'{round(p_val, 4)}, {p_val < alpha}: We can reject the null hypothesis that the average song duration is not the same in 1999 as it was in 2019, and we can further accept the alternate hypothesis that song duration is longer in 2019 than in 1999.')"
   ]
  },
  {
   "cell_type": "code",
   "execution_count": 9,
   "metadata": {},
   "outputs": [
    {
     "ename": "NameError",
     "evalue": "name 'n1' is not defined",
     "output_type": "error",
     "traceback": [
      "\u001b[0;31m---------------------------------------------------------------------------\u001b[0m",
      "\u001b[0;31mNameError\u001b[0m                                 Traceback (most recent call last)",
      "\u001b[0;32m<ipython-input-9-a88c5b5d5c3d>\u001b[0m in \u001b[0;36m<module>\u001b[0;34m\u001b[0m\n\u001b[1;32m      3\u001b[0m \u001b[0mc\u001b[0m \u001b[0;34m=\u001b[0m \u001b[0;36m0.85\u001b[0m\u001b[0;34m\u001b[0m\u001b[0;34m\u001b[0m\u001b[0m\n\u001b[1;32m      4\u001b[0m \u001b[0malpha\u001b[0m \u001b[0;34m=\u001b[0m \u001b[0;34m(\u001b[0m\u001b[0;36m1\u001b[0m \u001b[0;34m-\u001b[0m \u001b[0mc\u001b[0m\u001b[0;34m)\u001b[0m \u001b[0;34m/\u001b[0m \u001b[0;36m2\u001b[0m\u001b[0;34m\u001b[0m\u001b[0;34m\u001b[0m\u001b[0m\n\u001b[0;32m----> 5\u001b[0;31m \u001b[0mdf\u001b[0m \u001b[0;34m=\u001b[0m \u001b[0mn1\u001b[0m \u001b[0;34m-\u001b[0m \u001b[0;36m1\u001b[0m\u001b[0;34m\u001b[0m\u001b[0;34m\u001b[0m\u001b[0m\n\u001b[0m\u001b[1;32m      6\u001b[0m \u001b[0mt_c\u001b[0m \u001b[0;34m=\u001b[0m \u001b[0mround\u001b[0m\u001b[0;34m(\u001b[0m\u001b[0mabs\u001b[0m\u001b[0;34m(\u001b[0m\u001b[0mstats\u001b[0m\u001b[0;34m.\u001b[0m\u001b[0mt\u001b[0m\u001b[0;34m.\u001b[0m\u001b[0mppf\u001b[0m\u001b[0;34m(\u001b[0m\u001b[0mq\u001b[0m\u001b[0;34m=\u001b[0m\u001b[0malpha\u001b[0m\u001b[0;34m,\u001b[0m \u001b[0mdf\u001b[0m\u001b[0;34m=\u001b[0m\u001b[0mdf\u001b[0m\u001b[0;34m)\u001b[0m\u001b[0;34m)\u001b[0m\u001b[0;34m,\u001b[0m \u001b[0;36m2\u001b[0m\u001b[0;34m)\u001b[0m\u001b[0;34m\u001b[0m\u001b[0;34m\u001b[0m\u001b[0m\n\u001b[1;32m      7\u001b[0m \u001b[0mE\u001b[0m \u001b[0;34m=\u001b[0m \u001b[0mt_c\u001b[0m \u001b[0;34m*\u001b[0m \u001b[0mnp\u001b[0m\u001b[0;34m.\u001b[0m\u001b[0msqrt\u001b[0m\u001b[0;34m(\u001b[0m\u001b[0;34m(\u001b[0m\u001b[0ms1\u001b[0m \u001b[0;34m**\u001b[0m \u001b[0;36m2\u001b[0m \u001b[0;34m/\u001b[0m\u001b[0mn1\u001b[0m\u001b[0;34m)\u001b[0m \u001b[0;34m+\u001b[0m \u001b[0;34m(\u001b[0m\u001b[0ms2\u001b[0m \u001b[0;34m**\u001b[0m \u001b[0;36m2\u001b[0m \u001b[0;34m/\u001b[0m\u001b[0mn2\u001b[0m\u001b[0;34m)\u001b[0m\u001b[0;34m)\u001b[0m\u001b[0;34m\u001b[0m\u001b[0;34m\u001b[0m\u001b[0m\n",
      "\u001b[0;31mNameError\u001b[0m: name 'n1' is not defined"
     ]
    }
   ],
   "source": [
    "# confidence interval\n",
    "\n",
    "c = 0.85\n",
    "alpha = (1 - c) / 2\n",
    "df = n1 - 1\n",
    "t_c = round(abs(stats.t.ppf(q=alpha, df=df)), 2)\n",
    "E = t_c * np.sqrt((s1 ** 2 /n1) + (s2 ** 2 /n2))\n",
    "conf = round((x1_bar - x2_bar) - E, 2), round((x1_bar - x2_bar) + E, 2)\n",
    "\n",
    "print(f'99% confidence interval = {conf}')\n",
    "print('the confidence interval is negative, therefore mu1 (song duration in 2019) < mu2 (song duration in 1999)')\n",
    "print(f'the difference in avg song duration btw 2019 and 1972 is between {conf} ms, or {round(conf[0]/1000, 2)} to {round(conf[1]/1000, 2)} seconds')"
   ]
  },
  {
   "cell_type": "code",
   "execution_count": 703,
   "metadata": {},
   "outputs": [
    {
     "data": {
      "text/plain": [
       "(1.45, 21136.383005158743)"
      ]
     },
     "execution_count": 703,
     "metadata": {},
     "output_type": "execute_result"
    }
   ],
   "source": [
    "t_c, E"
   ]
  },
  {
   "cell_type": "code",
   "execution_count": 704,
   "metadata": {},
   "outputs": [
    {
     "name": "stdout",
     "output_type": "stream",
     "text": [
      "y_hat = 69.91 + -0.0x\n",
      "-2.3916799446920865e-06 69.91297673643516 -0.01715882226953091 0.8654478949980553 1.4077923634817959e-05\n"
     ]
    }
   ],
   "source": [
    "# 2019 duration_ms x popularity correlation\n",
    "\n",
    "slope, intercept, r_val, p_val, std_err = stats.linregress(dur19, pop19)\n",
    "\n",
    "print(f'y_hat = {round(intercept, 2)} + {round(slope, 2)}x')\n",
    "print(slope, intercept, r_val, p_val, std_err)"
   ]
  },
  {
   "cell_type": "code",
   "execution_count": 705,
   "metadata": {},
   "outputs": [
    {
     "data": {
      "image/png": "[encoded data removed]",
      "text/plain": [
       "<Figure size 432x288 with 1 Axes>"
      ]
     },
     "metadata": {
      "needs_background": "light"
     },
     "output_type": "display_data"
    }
   ],
   "source": [
    "prediction_x = np.linspace(dur19.min(), dur19.max())\n",
    "prediction_y = prediction_x * slope + intercept\n",
    "\n",
    "plt.scatter(dur19, pop19)\n",
    "plt.plot(prediction_x, prediction_y, color='lightblue')\n",
    "plt.xlabel('song duration (ms)')\n",
    "plt.ylabel('popularity (0-100)')\n",
    "plt.show()"
   ]
  },
  {
   "cell_type": "code",
   "execution_count": 464,
   "metadata": {},
   "outputs": [
    {
     "name": "stdout",
     "output_type": "stream",
     "text": [
      "r_sq: 0.0003\n",
      "explained variation: 0.03%\n",
      "unexplained variation: 99.97%\n"
     ]
    }
   ],
   "source": [
    "r_sq = r_val**2\n",
    "\n",
    "print(f'r_sq: {round(r_sq, 4)}\\nexplained variation: {round(r_sq*100, 2)}%\\nunexplained variation: {round(100 - (r_sq*100), 2)}%')"
   ]
  },
  {
   "cell_type": "code",
   "execution_count": 465,
   "metadata": {},
   "outputs": [
    {
     "name": "stdout",
     "output_type": "stream",
     "text": [
      "The P-value 0.865 > alpha 0.05, therefore with a 5% level of significance, we cannot reject the null \n",
      "hypothesis.\n"
     ]
    }
   ],
   "source": [
    "p_val = stats.linregress(dur19, pop19).pvalue\n",
    "\n",
    "print(f'The P-value {round(p_val, 3)} > alpha 0.05, therefore with a 5% level of significance, we cannot reject the null \\n\\\n",
    "hypothesis.')"
   ]
  },
  {
   "cell_type": "code",
   "execution_count": 498,
   "metadata": {},
   "outputs": [
    {
     "name": "stdout",
     "output_type": "stream",
     "text": [
      "0.7463795057056171 0.7713875158173079 False : We cannot reject the null hypothesis that the population correlation coefficient rho is 0\n"
     ]
    }
   ],
   "source": [
    "alpha = 0.01\n",
    "r = r_val\n",
    "n = 100\n",
    "\n",
    "t = r * np.sqrt(n - 2) / np.sqrt(1 - r**2)\n",
    "df = n - 2\n",
    "\n",
    "p_val = stats.t.cdf(t, df) #left-tail\n",
    "#p_val = stats.t.sf(t, df) #right-tail\n",
    "#p_val = stats.t.cdf(t, df) * 2 #two-tailed\n",
    "\n",
    "print(t, p_val, p_val < alpha, ': We cannot reject the null hypothesis that the population correlation coefficient rho is 0')"
   ]
  },
  {
   "cell_type": "code",
   "execution_count": 549,
   "metadata": {},
   "outputs": [],
   "source": [
    "def std_err (x,y):\n",
    "    slope = stats.linregress(x,y).slope\n",
    "    intercept = stats.linregress(x,y).intercept\n",
    "    y_hat = slope * x + intercept\n",
    "    SE = np.sqrt(((y-y_hat)**2).sum()/(len(y)-2))\n",
    "    return SE"
   ]
  },
  {
   "cell_type": "code",
   "execution_count": 551,
   "metadata": {},
   "outputs": [],
   "source": [
    "def margin_y(x,y,c,x_value):\n",
    "    n = len(x)\n",
    "    x_bar = x.mean()\n",
    "    t_c = abs (stats.t.ppf(q=(1-c)/2, df=n-2))\n",
    "    S_e = std_err(x,y)\n",
    "    x_sum = x.sum()\n",
    "    x_sqsum = (x**2).sum()  \n",
    "    E = t_c*S_e*np.sqrt(1 + 1/n + n*((x_value-x_bar)**2)/(n*x_sqsum-x_sum**2))\n",
    "    y_hat = stats.linregress(x,y).slope *x_value + stats.linregress(x,y).intercept\n",
    "    beta_lower = y_hat-E\n",
    "    beta_upper = y_hat+E\n",
    "    return (round(beta_lower, 4), round(beta_upper, 4))"
   ]
  },
  {
   "cell_type": "code",
   "execution_count": 554,
   "metadata": {},
   "outputs": [
    {
     "name": "stdout",
     "output_type": "stream",
     "text": [
      "There is 85% confidence that a 3 minute song (180,000 ms) released in 2019 will have a popularity rating between \n",
      "(59.6508, 79.3142)\n"
     ]
    }
   ],
   "source": [
    "x_value = 180000 # 3 minute song\n",
    "c = 0.85\n",
    "conf = margin_y(dur19, pop19, c, x_value)\n",
    "\n",
    "print(f'There is 85% confidence that a 3 minute song (180,000 ms) released in 2019 will have a popularity rating between \\n{conf}')"
   ]
  },
  {
   "cell_type": "code",
   "execution_count": 534,
   "metadata": {},
   "outputs": [
    {
     "name": "stdout",
     "output_type": "stream",
     "text": [
      "The P-value 0.46 > alpha 0.05, therefore with a 5% level of significance we cannot reject the null hypothesis.\n"
     ]
    }
   ],
   "source": [
    "print(f'The P-value {round(p_val, 2)} > alpha 0.05, therefore with a 5% level of significance we cannot reject the null hypothesis.')"
   ]
  },
  {
   "cell_type": "code",
   "execution_count": 535,
   "metadata": {},
   "outputs": [],
   "source": [
    "def margin_beta(x,y,c):\n",
    "    n = len(x)\n",
    "    t_c = abs (stats.t.ppf(q=(1-c)/2, df=n-2))\n",
    "    S_e = std_err(x,y)\n",
    "    E = t_c*S_e/(np.sqrt((x**2).sum() - (x.sum())**2/n))\n",
    "    slope = stats.linregress(x,y).slope\n",
    "    beta_lower = slope-E\n",
    "    beta_upper = slope+E\n",
    "    \n",
    "    return (beta_lower,beta_upper)"
   ]
  },
  {
   "cell_type": "code",
   "execution_count": 536,
   "metadata": {},
   "outputs": [
    {
     "name": "stdout",
     "output_type": "stream",
     "text": [
      "(-3.937341529141267e-05, 3.45900554020285e-05) interval is negative and positive, therefore we cannot condclude there is linear correlation between song duration and popularity in 2019.\n"
     ]
    }
   ],
   "source": [
    "c = 0.99\n",
    "conf = margin_beta(dur19, pop19, c)\n",
    "print(f'{conf} interval is negative and positive, therefore we cannot condclude there is linear correlation between song duration and popularity in 2019.')"
   ]
  },
  {
   "cell_type": "markdown",
   "metadata": {},
   "source": [
    "--\n"
   ]
  },
  {
   "cell_type": "code",
   "execution_count": 537,
   "metadata": {},
   "outputs": [
    {
     "name": "stdout",
     "output_type": "stream",
     "text": [
      "y_hat = 34.14 + 0.0x\n",
      "6.362315876553579e-06 34.141149873698055 0.07518233100186894 0.4572249683653842 8.524237104472385e-06\n"
     ]
    }
   ],
   "source": [
    "# 1972 duration_ms x popularity correlation\n",
    "\n",
    "slope, intercept, r_val, p_val, std_err = stats.linregress(dur72, pop72)\n",
    "\n",
    "print(f'y_hat = {round(intercept, 2)} + {round(slope, 2)}x')\n",
    "print(slope, intercept, r_val, p_val, std_err)"
   ]
  },
  {
   "cell_type": "code",
   "execution_count": 538,
   "metadata": {
    "scrolled": true
   },
   "outputs": [
    {
     "data": {
      "image/png": "[encoded data removed]",
      "text/plain": [
       "<Figure size 432x288 with 1 Axes>"
      ]
     },
     "metadata": {
      "needs_background": "light"
     },
     "output_type": "display_data"
    }
   ],
   "source": [
    "prediction_x = np.linspace(dur72.min(), dur72.max())\n",
    "prediction_y = prediction_x * slope + intercept\n",
    "\n",
    "plt.scatter(dur72, pop72)\n",
    "plt.plot(prediction_x, prediction_y, color='lightblue')\n",
    "plt.show()"
   ]
  },
  {
   "cell_type": "code",
   "execution_count": 539,
   "metadata": {},
   "outputs": [
    {
     "name": "stdout",
     "output_type": "stream",
     "text": [
      "r_sq: 0.0057\n",
      "explained variation: 0.57%\n",
      "unexplained variation: 99.43%\n"
     ]
    }
   ],
   "source": [
    "r_sq = r_val**2\n",
    "\n",
    "print(f'r_sq: {round(r_sq, 4)}\\nexplained variation: {round(r_sq*100, 2)}%\\nunexplained variation: {round(100 - (r_sq*100), 2)}%')"
   ]
  },
  {
   "cell_type": "code",
   "execution_count": 540,
   "metadata": {},
   "outputs": [
    {
     "name": "stdout",
     "output_type": "stream",
     "text": [
      "The P-value 0.457 > alpha 0.05, therefore with a 5% level of significance, we cannot reject the null \n",
      "hypothesis.\n"
     ]
    }
   ],
   "source": [
    "p_val = stats.linregress(dur72, pop72).pvalue\n",
    "\n",
    "print(f'The P-value {round(p_val, 3)} > alpha 0.05, therefore with a 5% level of significance, we cannot reject the null \\n\\\n",
    "hypothesis.')"
   ]
  },
  {
   "cell_type": "code",
   "execution_count": 553,
   "metadata": {},
   "outputs": [
    {
     "name": "stdout",
     "output_type": "stream",
     "text": [
      "There is 85% confidence that a 3 minute song (180,000 ms) released in 1972 will have a popularity rating between \n",
      "(18.2524, 52.3203)\n"
     ]
    }
   ],
   "source": [
    "x_value = 180000 # 3 minute song\n",
    "c = 0.85\n",
    "conf = margin_y(dur72, pop72, c, x_value)\n",
    "\n",
    "print(f'There is 85% confidence that a 3 minute song (180,000 ms) released in 1972 will have a popularity rating between \\n{conf}')"
   ]
  },
  {
   "cell_type": "code",
   "execution_count": 632,
   "metadata": {},
   "outputs": [
    {
     "name": "stdout",
     "output_type": "stream",
     "text": [
      "197759.21 48103.65213046499 240297.74 137602.30641144753\n"
     ]
    }
   ],
   "source": [
    "print(x1_bar, s1, x2_bar, s2)"
   ]
  },
  {
   "cell_type": "code",
   "execution_count": null,
   "metadata": {},
   "outputs": [],
   "source": []
  }
 ],
 "metadata": {
  "kernelspec": {
   "display_name": "Python 3",
   "language": "python",
   "name": "python3"
  },
  "language_info": {
   "codemirror_mode": {
    "name": "ipython",
    "version": 3
   },
   "file_extension": ".py",
   "mimetype": "text/x-python",
   "name": "python",
   "nbconvert_exporter": "python",
   "pygments_lexer": "ipython3",
   "version": "3.7.4"
  }
 },
 "nbformat": 4,
 "nbformat_minor": 2
}
